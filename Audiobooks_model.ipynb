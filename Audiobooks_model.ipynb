{
  "cells": [
    {
      "cell_type": "markdown",
      "metadata": {
        "id": "fvL0eoQ-y0cF"
      },
      "source": [
        "# Audiobooks"
      ]
    },
    {
      "cell_type": "markdown",
      "metadata": {
        "id": "VWzW5s1Oy0cH"
      },
      "source": [
        "## Create the machine learning algorithm\n",
        "\n"
      ]
    },
    {
      "cell_type": "markdown",
      "metadata": {
        "id": "g5O5h51Sy0cI"
      },
      "source": [
        "### Import the relevant libraries"
      ]
    },
    {
      "cell_type": "code",
      "execution_count": 2,
      "metadata": {
        "id": "Vg9EPQPsy0cI"
      },
      "outputs": [],
      "source": [
        "# we must import the libraries once again since we haven't imported them in this file\n",
        "import numpy as np\n",
        "import tensorflow as tf"
      ]
    },
    {
      "cell_type": "markdown",
      "metadata": {
        "id": "ra3VcMfFy0cI"
      },
      "source": [
        "### Data"
      ]
    },
    {
      "cell_type": "code",
      "execution_count": 3,
      "metadata": {
        "id": "SQ436F_2y0cJ",
        "outputId": "0066afed-917f-49a3-863e-dc00ffec2002",
        "colab": {
          "base_uri": "https://localhost:8080/"
        }
      },
      "outputs": [
        {
          "output_type": "stream",
          "name": "stderr",
          "text": [
            "<ipython-input-3-690a16990a2e>:6: DeprecationWarning: `np.float` is a deprecated alias for the builtin `float`. To silence this warning, use `float` by itself. Doing this will not modify any behavior and is safe. If you specifically wanted the numpy scalar type, use `np.float64` here.\n",
            "Deprecated in NumPy 1.20; for more details and guidance: https://numpy.org/devdocs/release/1.20.0-notes.html#deprecations\n",
            "  train_inputs = npz['inputs'].astype(np.float)\n",
            "<ipython-input-3-690a16990a2e>:8: DeprecationWarning: `np.int` is a deprecated alias for the builtin `int`. To silence this warning, use `int` by itself. Doing this will not modify any behavior and is safe. When replacing `np.int`, you may wish to use e.g. `np.int64` or `np.int32` to specify the precision. If you wish to review your current use, check the release note link for additional information.\n",
            "Deprecated in NumPy 1.20; for more details and guidance: https://numpy.org/devdocs/release/1.20.0-notes.html#deprecations\n",
            "  train_targets = npz['targets'].astype(np.int)\n",
            "<ipython-input-3-690a16990a2e>:13: DeprecationWarning: `np.float` is a deprecated alias for the builtin `float`. To silence this warning, use `float` by itself. Doing this will not modify any behavior and is safe. If you specifically wanted the numpy scalar type, use `np.float64` here.\n",
            "Deprecated in NumPy 1.20; for more details and guidance: https://numpy.org/devdocs/release/1.20.0-notes.html#deprecations\n",
            "  validation_inputs, validation_targets = npz['inputs'].astype(np.float), npz['targets'].astype(np.int)\n",
            "<ipython-input-3-690a16990a2e>:13: DeprecationWarning: `np.int` is a deprecated alias for the builtin `int`. To silence this warning, use `int` by itself. Doing this will not modify any behavior and is safe. When replacing `np.int`, you may wish to use e.g. `np.int64` or `np.int32` to specify the precision. If you wish to review your current use, check the release note link for additional information.\n",
            "Deprecated in NumPy 1.20; for more details and guidance: https://numpy.org/devdocs/release/1.20.0-notes.html#deprecations\n",
            "  validation_inputs, validation_targets = npz['inputs'].astype(np.float), npz['targets'].astype(np.int)\n",
            "<ipython-input-3-690a16990a2e>:18: DeprecationWarning: `np.float` is a deprecated alias for the builtin `float`. To silence this warning, use `float` by itself. Doing this will not modify any behavior and is safe. If you specifically wanted the numpy scalar type, use `np.float64` here.\n",
            "Deprecated in NumPy 1.20; for more details and guidance: https://numpy.org/devdocs/release/1.20.0-notes.html#deprecations\n",
            "  test_inputs, test_targets = npz['inputs'].astype(np.float), npz['targets'].astype(np.int)\n",
            "<ipython-input-3-690a16990a2e>:18: DeprecationWarning: `np.int` is a deprecated alias for the builtin `int`. To silence this warning, use `int` by itself. Doing this will not modify any behavior and is safe. When replacing `np.int`, you may wish to use e.g. `np.int64` or `np.int32` to specify the precision. If you wish to review your current use, check the release note link for additional information.\n",
            "Deprecated in NumPy 1.20; for more details and guidance: https://numpy.org/devdocs/release/1.20.0-notes.html#deprecations\n",
            "  test_inputs, test_targets = npz['inputs'].astype(np.float), npz['targets'].astype(np.int)\n"
          ]
        }
      ],
      "source": [
        "#create a temporary variable npz, where each of the three Audiobooks datasets will be stored\n",
        "npz =np.load('/content/train.npz')\n",
        "\n",
        "# extract the inputs using the keyword under which it is saved\n",
        "# ensure that they are all floats\n",
        "train_inputs = npz['inputs'].astype(np.float)\n",
        "# targets must be int because of sparse_categorical_crossentropy\n",
        "train_targets = npz['targets'].astype(np.int)\n",
        "\n",
        "#load the validation data in the temporary variable\n",
        "npz = np.load('/content/validation.npz')\n",
        "# load the inputs and the targets in the same line\n",
        "validation_inputs, validation_targets = npz['inputs'].astype(np.float), npz['targets'].astype(np.int)\n",
        "\n",
        "# load the test data in the temporary variable\n",
        "npz = np.load('/content/test.npz')\n",
        "# create 2 variables that will contain the test inputs and the test targets\n",
        "test_inputs, test_targets = npz['inputs'].astype(np.float), npz['targets'].astype(np.int)"
      ]
    },
    {
      "cell_type": "markdown",
      "metadata": {
        "id": "dzm02wb2y0cJ"
      },
      "source": [
        "### Model\n",
        "Outline, optimizers, loss, early stopping and training"
      ]
    },
    {
      "cell_type": "code",
      "execution_count": 4,
      "metadata": {
        "id": "vlKbHarLy0cJ",
        "outputId": "b61be842-eaa2-4c32-d239-39e07d27b568",
        "colab": {
          "base_uri": "https://localhost:8080/"
        }
      },
      "outputs": [
        {
          "output_type": "stream",
          "name": "stdout",
          "text": [
            "Epoch 1/100\n",
            "36/36 - 1s - loss: 0.5503 - accuracy: 0.7776 - val_loss: 0.4139 - val_accuracy: 0.8949 - 939ms/epoch - 26ms/step\n",
            "Epoch 2/100\n",
            "36/36 - 0s - loss: 0.3763 - accuracy: 0.8759 - val_loss: 0.2833 - val_accuracy: 0.9060 - 77ms/epoch - 2ms/step\n",
            "Epoch 3/100\n",
            "36/36 - 0s - loss: 0.3231 - accuracy: 0.8815 - val_loss: 0.2519 - val_accuracy: 0.9239 - 59ms/epoch - 2ms/step\n",
            "Epoch 4/100\n",
            "36/36 - 0s - loss: 0.3029 - accuracy: 0.8838 - val_loss: 0.2377 - val_accuracy: 0.9262 - 77ms/epoch - 2ms/step\n",
            "Epoch 5/100\n",
            "36/36 - 0s - loss: 0.2890 - accuracy: 0.8924 - val_loss: 0.2313 - val_accuracy: 0.9172 - 83ms/epoch - 2ms/step\n",
            "Epoch 6/100\n",
            "36/36 - 0s - loss: 0.2806 - accuracy: 0.8908 - val_loss: 0.2232 - val_accuracy: 0.9306 - 78ms/epoch - 2ms/step\n",
            "Epoch 7/100\n",
            "36/36 - 0s - loss: 0.2722 - accuracy: 0.8966 - val_loss: 0.2193 - val_accuracy: 0.9351 - 74ms/epoch - 2ms/step\n",
            "Epoch 8/100\n",
            "36/36 - 0s - loss: 0.2658 - accuracy: 0.8975 - val_loss: 0.2148 - val_accuracy: 0.9329 - 79ms/epoch - 2ms/step\n",
            "Epoch 9/100\n",
            "36/36 - 0s - loss: 0.2605 - accuracy: 0.9003 - val_loss: 0.2178 - val_accuracy: 0.9329 - 66ms/epoch - 2ms/step\n",
            "Epoch 10/100\n",
            "36/36 - 0s - loss: 0.2586 - accuracy: 0.8983 - val_loss: 0.2169 - val_accuracy: 0.9351 - 76ms/epoch - 2ms/step\n"
          ]
        },
        {
          "output_type": "execute_result",
          "data": {
            "text/plain": [
              "<keras.src.callbacks.History at 0x79a7b2e178b0>"
            ]
          },
          "metadata": {},
          "execution_count": 4
        }
      ],
      "source": [
        "# Set the input and output sizes\n",
        "input_size = 10\n",
        "output_size = 2\n",
        "hidden_layer_size = 50\n",
        "\n",
        "# define how the model will look like\n",
        "model = tf.keras.Sequential([\n",
        "    # tf.keras.layers.Dense is basically implementing: output = activation(dot(input, weight) + bias)\n",
        "    # it takes several arguments, but the most important ones for us are the hidden_layer_size and the activation function\n",
        "    tf.keras.layers.Dense(hidden_layer_size, activation='relu'), # 1st hidden layer\n",
        "    tf.keras.layers.Dense(hidden_layer_size, activation='relu'), # 2nd hidden layer\n",
        "    tf.keras.layers.Dense(output_size, activation='softmax') # output layer\n",
        "])\n",
        "\n",
        "\n",
        "### Choose the optimizer and the loss function\n",
        "\n",
        "# define the optimizer, the loss function and the metrics interested in obtaining at each iteration\n",
        "model.compile(optimizer='adam', loss='sparse_categorical_crossentropy', metrics=['accuracy'])\n",
        "\n",
        "### Training\n",
        "\n",
        "# set the batch size\n",
        "batch_size = 100\n",
        "\n",
        "# set a maximum number of training epochs\n",
        "max_epochs = 100\n",
        "\n",
        "# set an early stopping mechanism\n",
        "# set patience=2, to be a bit tolerant against random validation loss increases\n",
        "early_stopping = tf.keras.callbacks.EarlyStopping(patience=2)\n",
        "\n",
        "# fit the model\n",
        "# note that this time the train, validation and test data are not iterable\n",
        "model.fit(train_inputs, # train inputs\n",
        "          train_targets, # train targets\n",
        "          batch_size=batch_size, # batch size\n",
        "          epochs=max_epochs,\n",
        "          callbacks=[early_stopping], # early stopping\n",
        "          validation_data=(validation_inputs, validation_targets), # validation data\n",
        "          verbose = 2 # making sure to get enough information about the training process\n",
        "          )"
      ]
    },
    {
      "cell_type": "markdown",
      "metadata": {
        "id": "DB12lqaFy0cK"
      },
      "source": [
        "## Test the model\n",
        "\n"
      ]
    },
    {
      "cell_type": "code",
      "execution_count": 5,
      "metadata": {
        "id": "aU6YeCpJy0cK",
        "outputId": "26cd9590-5aa6-4fc2-96e1-46cc1f0023df",
        "colab": {
          "base_uri": "https://localhost:8080/"
        }
      },
      "outputs": [
        {
          "output_type": "stream",
          "name": "stdout",
          "text": [
            "14/14 [==============================] - 0s 2ms/step - loss: 0.2344 - accuracy: 0.9219\n"
          ]
        }
      ],
      "source": [
        "test_loss, test_accuracy = model.evaluate(test_inputs, test_targets)"
      ]
    },
    {
      "cell_type": "code",
      "execution_count": 6,
      "metadata": {
        "id": "5ca4ClOyy0cK",
        "outputId": "b6aafaa0-cd3b-4c79-fc3f-676550d4a16f",
        "colab": {
          "base_uri": "https://localhost:8080/"
        }
      },
      "outputs": [
        {
          "output_type": "stream",
          "name": "stdout",
          "text": [
            "\n",
            "Test loss: 0.23. Test accuracy: 92.19%\n"
          ]
        }
      ],
      "source": [
        "print('\\nTest loss: {0:.2f}. Test accuracy: {1:.2f}%'.format(test_loss, test_accuracy*100.))"
      ]
    }
  ],
  "metadata": {
    "kernelspec": {
      "display_name": "Python [conda env:py3-TF2.0]",
      "language": "python",
      "name": "conda-env-py3-TF2.0-py"
    },
    "language_info": {
      "codemirror_mode": {
        "name": "ipython",
        "version": 3
      },
      "file_extension": ".py",
      "mimetype": "text/x-python",
      "name": "python",
      "nbconvert_exporter": "python",
      "pygments_lexer": "ipython3",
      "version": "3.7.3"
    },
    "colab": {
      "provenance": []
    }
  },
  "nbformat": 4,
  "nbformat_minor": 0
}